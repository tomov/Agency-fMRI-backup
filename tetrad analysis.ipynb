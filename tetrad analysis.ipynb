{
 "cells": [
  {
   "cell_type": "code",
   "execution_count": 1,
   "metadata": {},
   "outputs": [
    {
     "name": "stdout",
     "output_type": "stream",
     "text": [
      "['/opt/conda/root/lib/python36.zip', '/opt/conda/root/lib/python3.6', '/opt/conda/root/lib/python3.6/lib-dynload', '', '/opt/conda/root/lib/python3.6/site-packages', '/opt/conda/root/lib/python3.6/site-packages/IPython/extensions', '/users/mtomov13/.ipython', '/users/mtomov13/.conda/envs/venv/lib/python3.6/site-packages/']\n"
     ]
    }
   ],
   "source": [
    "import sys\n",
    "sys.path.append('/users/mtomov13/.conda/envs/venv/lib/python3.6/site-packages/')\n",
    "print(sys.path)"
   ]
  },
  {
   "cell_type": "code",
   "execution_count": 2,
   "metadata": {},
   "outputs": [],
   "source": [
    "import os\n",
    "import glob\n",
    "import pandas as pd\n",
    "\n",
    "# ImaGES (Ramsey et al. 2010) is the algo for group-level causal inference, recommended by Russ Poldrack Handbook of fMRI, sec 8.3.3 pg. 152\n",
    "# https://github.com/bd2kccd/py-causal/blob/development/example/py-causal%20-ImaGES%20Continuous%20in%20Action.ipynb\n",
    "# see https://www.ccd.pitt.edu/tools/     and    https://bd2kccd.github.io/docs/py-causal/ to setup\n",
    "\n",
    "dfs = []\n",
    "tetrad_images_dir = os.path.join(os.getcwd(), 'feedback_onset')\n",
    "for d in glob.glob(tetrad_images_dir + os.sep + \"*.txt\"):\n",
    "    print (d)\n",
    "    df = pd.read_table(d, sep=\"\\t\")\n",
    "    dfs.append(df)"
   ]
  },
  {
   "cell_type": "code",
   "execution_count": 3,
   "metadata": {},
   "outputs": [],
   "source": [
    "from pycausal.pycausal import pycausal as pc\n",
    "pc = pc()\n",
    "pc.start_vm()"
   ]
  },
  {
   "cell_type": "code",
   "execution_count": 4,
   "metadata": {},
   "outputs": [
    {
     "name": "stdout",
     "output_type": "stream",
     "text": [
      "disc-bic\n",
      "g-square\n",
      "sem-bic\n",
      "d-sep\n",
      "bdeu\n",
      "mixed-var-polynominal-likelihood-ratio\n",
      "cond-correlation\n",
      "multinomial-logistic-regression-likelihood-ratio\n",
      "correlation-t\n",
      "fisher-z\n",
      "cond-gauss-lrt\n",
      "chi-square\n",
      "multinomial-logistic-regression-wald\n"
     ]
    }
   ],
   "source": [
    "from pycausal import search as s\n",
    "tetrad = s.tetradrunner()\n",
    "tetrad.listIndTests() # vi ~/.conda/envs/venv/lib/python3.6/site-packages/pycausal/search.py, comment out .sort()"
   ]
  },
  {
   "cell_type": "code",
   "execution_count": 5,
   "metadata": {},
   "outputs": [
    {
     "name": "stdout",
     "output_type": "stream",
     "text": [
      "penaltyDiscount: Penalty discount (min = 0.0) (java.lang.Double) [default:2.0]\n",
      "faithfulnessAssumed: Yes if (one edge) faithfulness should be assumed (java.lang.Boolean) [default:true]\n",
      "symmetricFirstStep: Yes if the first step step for FGES should do scoring for both X->Y and Y->X (java.lang.Boolean) [default:false]\n",
      "maxDegree: The maximum degree of the graph (min = -1) (java.lang.Integer) [default:100]\n",
      "verbose: Yes if verbose output should be printed or logged (java.lang.Boolean) [default:false]\n",
      "bootstrapSampleSize: The number of bootstraps (min = 0) (java.lang.Integer) [default:0]\n",
      "bootstrapEnsemble: Ensemble method: Preserved (0), Highest (1), Majority (2) (java.lang.Integer) [default:1]\n",
      "numRuns: The number runs (java.lang.Integer) [default:1]\n",
      "randomSelectionSize: The number of datasets that should be taken in each random sample (java.lang.Integer) [default:1]\n",
      "bootstrapSampleSize: The number of bootstraps (min = 0) (java.lang.Integer) [default:0]\n",
      "bootstrapEnsemble: Ensemble method: Preserved (0), Highest (1), Majority (2) (java.lang.Integer) [default:1]\n",
      "verbose: Yes if verbose output should be printed or logged (java.lang.Boolean) [default:false]\n"
     ]
    }
   ],
   "source": [
    "tetrad.getAlgorithmParameters(algoId = 'imgs_cont', testId = 'fisher-z')"
   ]
  },
  {
   "cell_type": "code",
   "execution_count": null,
   "metadata": {},
   "outputs": [],
   "source": [
    "tetrad.run(algoId = 'imgs_cont', dfs = dfs, testId = 'fisher-z', verbose = True)"
   ]
  },
  {
   "cell_type": "code",
   "execution_count": null,
   "metadata": {},
   "outputs": [],
   "source": [
    "tetrad.getNodes()"
   ]
  },
  {
   "cell_type": "code",
   "execution_count": null,
   "metadata": {},
   "outputs": [],
   "source": [
    "tetrad.getEdges()"
   ]
  }
 ],
 "metadata": {
  "kernelspec": {
   "display_name": "Python 3",
   "language": "python",
   "name": "python3"
  },
  "language_info": {
   "codemirror_mode": {
    "name": "ipython",
    "version": 3
   },
   "file_extension": ".py",
   "mimetype": "text/x-python",
   "name": "python",
   "nbconvert_exporter": "python",
   "pygments_lexer": "ipython3",
   "version": "3.6.5"
  }
 },
 "nbformat": 4,
 "nbformat_minor": 2
}
