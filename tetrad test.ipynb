{
 "cells": [
  {
   "cell_type": "code",
   "execution_count": 1,
   "metadata": {},
   "outputs": [
    {
     "ename": "ModuleNotFoundError",
     "evalue": "No module named 'pandas'",
     "output_type": "error",
     "traceback": [
      "\u001b[0;31m---------------------------------------------------------------------------\u001b[0m",
      "\u001b[0;31mModuleNotFoundError\u001b[0m                       Traceback (most recent call last)",
      "\u001b[0;32m<ipython-input-1-7dd3504c366f>\u001b[0m in \u001b[0;36m<module>\u001b[0;34m\u001b[0m\n\u001b[0;32m----> 1\u001b[0;31m \u001b[0;32mimport\u001b[0m \u001b[0mpandas\u001b[0m \u001b[0;32mas\u001b[0m \u001b[0mpd\u001b[0m\u001b[0;34m\u001b[0m\u001b[0m\n\u001b[0m",
      "\u001b[0;31mModuleNotFoundError\u001b[0m: No module named 'pandas'"
     ]
    }
   ],
   "source": [
    "import pandas as pd"
   ]
  },
  {
   "cell_type": "code",
   "execution_count": 2,
   "metadata": {},
   "outputs": [
    {
     "name": "stdout",
     "output_type": "stream",
     "text": [
      "['/opt/conda/root/lib/python36.zip', '/opt/conda/root/lib/python3.6', '/opt/conda/root/lib/python3.6/lib-dynload', '', '/opt/conda/root/lib/python3.6/site-packages', '/opt/conda/root/lib/python3.6/site-packages/IPython/extensions', '/users/mtomov13/.ipython', '/users/mtomov13/.conda/envs/venv/lib/python3.6/site-packages/']\n"
     ]
    }
   ],
   "source": [
    "import sys\n",
    "sys.path.append('/users/mtomov13/.conda/envs/venv/lib/python3.6/site-packages/')\n",
    "print(sys.path)"
   ]
  },
  {
   "cell_type": "code",
   "execution_count": 3,
   "metadata": {},
   "outputs": [],
   "source": [
    "import pandas as pd"
   ]
  },
  {
   "cell_type": "code",
   "execution_count": 4,
   "metadata": {},
   "outputs": [],
   "source": [
    "# from https://github.com/bd2kccd/py-causal/blob/development/example/py-causal%20-%20Bootstrapping%20FGES%20Continuous%20in%20Action.ipynb\n",
    "# see https://www.ccd.pitt.edu/tools/     and    https://bd2kccd.github.io/docs/py-causal/ to setup\n",
    "\n",
    "#data_dir = \"https://raw.githubusercontent.com/bd2kccd/py-causal/master/data/charity.txt\"\n",
    "data_dir = \"T_fb.txt\"\n",
    "df = pd.read_table(data_dir, sep=\"\\t\")"
   ]
  },
  {
   "cell_type": "code",
   "execution_count": 5,
   "metadata": {},
   "outputs": [
    {
     "name": "stdout",
     "output_type": "stream",
     "text": [
      "          MTG        Put         VS\n",
      "0    5.306858   6.146039  11.255432\n",
      "1    3.011575   0.827515   9.098964\n",
      "2    4.327825   8.435575  14.960765\n",
      "3    2.441611   7.569087  10.273907\n",
      "4   -0.068907   0.114927  12.410114\n",
      "..        ...        ...        ...\n",
      "115 -5.271536  -1.894399  -9.510848\n",
      "116 -7.400968  -7.169888  -8.649971\n",
      "117 -6.681243  -1.233947  -7.431106\n",
      "118 -1.954336   5.083614  -0.642620\n",
      "119  4.396028  12.266212   3.913108\n",
      "\n",
      "[120 rows x 3 columns]\n"
     ]
    }
   ],
   "source": [
    "print(df)"
   ]
  },
  {
   "cell_type": "code",
   "execution_count": 6,
   "metadata": {},
   "outputs": [],
   "source": [
    "from pycausal.pycausal import pycausal as pc\n",
    "pc = pc()\n",
    "pc.start_vm()"
   ]
  },
  {
   "cell_type": "code",
   "execution_count": 7,
   "metadata": {},
   "outputs": [],
   "source": [
    "from pycausal import search as s\n",
    "tetrad = s.tetradrunner()\n",
    "#tetrad.listScores()"
   ]
  },
  {
   "cell_type": "code",
   "execution_count": 8,
   "metadata": {},
   "outputs": [
    {
     "name": "stdout",
     "output_type": "stream",
     "text": [
      "sh\n",
      "sntaoheu\n",
      "disc-mixed-bic\n",
      "conditional-gaussian-other-bic\n",
      "bdeu\n",
      "cond-gauss-bic\n",
      "fisher-z\n",
      "mixed-var-polynominal-bic\n",
      "d-separation\n",
      "sem-bic\n",
      "disc-bic\n",
      "multinomial-logistic-regression-bic\n",
      "sem-bic-deterministic\n"
     ]
    }
   ],
   "source": [
    "print('sh')\n",
    "tetrad.listScores() # momchil: to make it work, had to remove .sort() from listScores() in  ~/.conda/envs/venv/lib/python3.6/site-packages/pycausal/search.py"
   ]
  },
  {
   "cell_type": "code",
   "execution_count": 9,
   "metadata": {},
   "outputs": [
    {
     "name": "stdout",
     "output_type": "stream",
     "text": [
      "penaltyDiscount: Penalty discount (min = 0.0) (java.lang.Double) [default:2.0]\n",
      "faithfulnessAssumed: Yes if (one edge) faithfulness should be assumed (java.lang.Boolean) [default:true]\n",
      "symmetricFirstStep: Yes if the first step step for FGES should do scoring for both X->Y and Y->X (java.lang.Boolean) [default:false]\n",
      "maxDegree: The maximum degree of the graph (min = -1) (java.lang.Integer) [default:100]\n",
      "verbose: Yes if verbose output should be printed or logged (java.lang.Boolean) [default:false]\n",
      "bootstrapSampleSize: The number of bootstraps (min = 0) (java.lang.Integer) [default:0]\n",
      "bootstrapEnsemble: Ensemble method: Preserved (0), Highest (1), Majority (2) (java.lang.Integer) [default:1]\n"
     ]
    }
   ],
   "source": [
    "tetrad.getAlgorithmParameters(algoId = 'fges', scoreId = 'sem-bic')"
   ]
  },
  {
   "cell_type": "code",
   "execution_count": 31,
   "metadata": {},
   "outputs": [],
   "source": [
    "tetrad.run(algoId = 'fges', dfs = df, scoreId = 'sem-bic',\n",
    "           maxDegree = -1, faithfulnessAssumed = True, symmetricFirstStep = True, \n",
    "           numberResampling = 5, resamplingEnsemble = 1, addOriginalDataset = True)"
   ]
  },
  {
   "cell_type": "code",
   "execution_count": 25,
   "metadata": {},
   "outputs": [
    {
     "data": {
      "text/plain": [
       "['MTG', 'Put', 'VS']"
      ]
     },
     "execution_count": 25,
     "metadata": {},
     "output_type": "execute_result"
    }
   ],
   "source": [
    "tetrad.getNodes()"
   ]
  },
  {
   "cell_type": "code",
   "execution_count": 26,
   "metadata": {},
   "outputs": [
    {
     "data": {
      "text/plain": [
       "['VS --- MTG', 'VS --- Put']"
      ]
     },
     "execution_count": 26,
     "metadata": {},
     "output_type": "execute_result"
    }
   ],
   "source": [
    "tetrad.getEdges()"
   ]
  },
  {
   "cell_type": "code",
   "execution_count": 23,
   "metadata": {},
   "outputs": [
    {
     "data": {
      "image/svg+xml": [
       "<svg height=\"116pt\" viewBox=\"0.00 0.00 141.00 116.00\" width=\"141pt\" xmlns=\"http://www.w3.org/2000/svg\" xmlns:xlink=\"http://www.w3.org/1999/xlink\">\n",
       "<g class=\"graph\" id=\"graph0\" transform=\"scale(1 1) rotate(0) translate(4 112)\">\n",
       "<title>G</title>\n",
       "<polygon fill=\"white\" points=\"-4,5 -4,-112 138,-112 138,5 -4,5\" stroke=\"white\"/>\n",
       "<!-- VS -->\n",
       "<g class=\"node\" id=\"node1\"><title>VS</title>\n",
       "<ellipse cx=\"68\" cy=\"-90\" fill=\"none\" rx=\"27\" ry=\"18\" stroke=\"black\"/>\n",
       "<text font-family=\"Times,serif\" font-size=\"14.00\" text-anchor=\"middle\" x=\"68\" y=\"-86.3\">VS</text>\n",
       "</g>\n",
       "<!-- MTG -->\n",
       "<g class=\"node\" id=\"node2\"><title>MTG</title>\n",
       "<ellipse cx=\"30\" cy=\"-18\" fill=\"none\" rx=\"30.3206\" ry=\"18\" stroke=\"black\"/>\n",
       "<text font-family=\"Times,serif\" font-size=\"14.00\" text-anchor=\"middle\" x=\"30\" y=\"-14.3\">MTG</text>\n",
       "</g>\n",
       "<!-- VS&#45;&gt;MTG -->\n",
       "<g class=\"edge\" id=\"edge1\"><title>VS-&gt;MTG</title>\n",
       "<path d=\"M59.1865,-72.7646C53.1352,-61.6175 45.1267,-46.865 39.0296,-35.6334\" fill=\"none\" stroke=\"black\"/>\n",
       "</g>\n",
       "<!-- Put -->\n",
       "<g class=\"node\" id=\"node3\"><title>Put</title>\n",
       "<ellipse cx=\"106\" cy=\"-18\" fill=\"none\" rx=\"27\" ry=\"18\" stroke=\"black\"/>\n",
       "<text font-family=\"Times,serif\" font-size=\"14.00\" text-anchor=\"middle\" x=\"106\" y=\"-14.3\">Put</text>\n",
       "</g>\n",
       "<!-- VS&#45;&gt;Put -->\n",
       "<g class=\"edge\" id=\"edge2\"><title>VS-&gt;Put</title>\n",
       "<path d=\"M76.8135,-72.7646C82.9525,-61.456 91.1058,-46.4367 97.2343,-35.1473\" fill=\"none\" stroke=\"black\"/>\n",
       "</g>\n",
       "</g>\n",
       "</svg>"
      ],
      "text/plain": [
       "<IPython.core.display.SVG object>"
      ]
     },
     "execution_count": 23,
     "metadata": {},
     "output_type": "execute_result"
    }
   ],
   "source": [
    "import pydot\n",
    "from IPython.display import SVG\n",
    "#dot_str = pc.tetradGraphToDot(tetrad.getTetradGraph())\n",
    "#dot_str = tetrad.getDot()\n",
    "#graphs = pydot.graph_from_dot_data(dot_str)\n",
    "graphs = [tetrad.getDot()]\n",
    "svg_str = graphs[0].create_svg()\n",
    "SVG(svg_str)"
   ]
  },
  {
   "cell_type": "code",
   "execution_count": 15,
   "metadata": {},
   "outputs": [
    {
     "data": {
      "text/plain": [
       "<pydot.Dot at 0x2b9a4be487b8>"
      ]
     },
     "execution_count": 15,
     "metadata": {},
     "output_type": "execute_result"
    }
   ],
   "source": [
    "tetrad.getDot()"
   ]
  },
  {
   "cell_type": "code",
   "execution_count": 36,
   "metadata": {},
   "outputs": [
    {
     "data": {
      "text/plain": [
       "<function print>"
      ]
     },
     "execution_count": 36,
     "metadata": {},
     "output_type": "execute_result"
    }
   ],
   "source": [
    "print"
   ]
  },
  {
   "cell_type": "code",
   "execution_count": 33,
   "metadata": {},
   "outputs": [
    {
     "name": "stdout",
     "output_type": "stream",
     "text": [
      "Graph Nodes:\n",
      "MTG,Put,VS\n",
      "\n",
      "Graph Edges:\n",
      "1. VS --- MTG\n",
      "2. VS --- Put\n",
      "\n"
     ]
    }
   ],
   "source": [
    "print(tetrad.getTetradGraph().toString())"
   ]
  },
  {
   "cell_type": "code",
   "execution_count": 35,
   "metadata": {},
   "outputs": [
    {
     "data": {
      "text/plain": [
       "{'obj_dict': {'attributes': {},\n",
       "  'name': 'G',\n",
       "  'type': 'digraph',\n",
       "  'strict': False,\n",
       "  'suppress_disconnected': False,\n",
       "  'simplify': False,\n",
       "  'current_child_sequence': 3,\n",
       "  'nodes': {},\n",
       "  'edges': {('VS',\n",
       "    'MTG'): [{'points': ('VS', 'MTG'),\n",
       "     'attributes': {'arrowhead': 'none'},\n",
       "     'type': 'edge',\n",
       "     'parent_graph': <pydot.Dot at 0x2b9a4bd66518>,\n",
       "     'parent_edge_list': None,\n",
       "     'sequence': 1}],\n",
       "   ('VS',\n",
       "    'Put'): [{'points': ('VS', 'Put'),\n",
       "     'attributes': {'arrowhead': 'none'},\n",
       "     'type': 'edge',\n",
       "     'parent_graph': <pydot.Dot at 0x2b9a4bd66518>,\n",
       "     'parent_edge_list': None,\n",
       "     'sequence': 2}]},\n",
       "  'subgraphs': {},\n",
       "  'parent_graph': <pydot.Dot at 0x2b9a4bd66518>},\n",
       " 'set_remincross': <function pydot.Common.create_attribute_methods.<locals>.<lambda>(x, a='remincross')>,\n",
       " 'get_remincross': <function pydot.Common.create_attribute_methods.<locals>.<lambda>(a='remincross')>,\n",
       " 'set_dimen': <function pydot.Common.create_attribute_methods.<locals>.<lambda>(x, a='dimen')>,\n",
       " 'get_dimen': <function pydot.Common.create_attribute_methods.<locals>.<lambda>(a='dimen')>,\n",
       " 'set_center': <function pydot.Common.create_attribute_methods.<locals>.<lambda>(x, a='center')>,\n",
       " 'get_center': <function pydot.Common.create_attribute_methods.<locals>.<lambda>(a='center')>,\n",
       " 'set_defaultdist': <function pydot.Common.create_attribute_methods.<locals>.<lambda>(x, a='defaultdist')>,\n",
       " 'get_defaultdist': <function pydot.Common.create_attribute_methods.<locals>.<lambda>(a='defaultdist')>,\n",
       " 'set_landscape': <function pydot.Common.create_attribute_methods.<locals>.<lambda>(x, a='landscape')>,\n",
       " 'get_landscape': <function pydot.Common.create_attribute_methods.<locals>.<lambda>(a='landscape')>,\n",
       " 'set_model': <function pydot.Common.create_attribute_methods.<locals>.<lambda>(x, a='model')>,\n",
       " 'get_model': <function pydot.Common.create_attribute_methods.<locals>.<lambda>(a='model')>,\n",
       " 'set_id': <function pydot.Common.create_attribute_methods.<locals>.<lambda>(x, a='id')>,\n",
       " 'get_id': <function pydot.Common.create_attribute_methods.<locals>.<lambda>(a='id')>,\n",
       " 'set_sortv': <function pydot.Common.create_attribute_methods.<locals>.<lambda>(x, a='sortv')>,\n",
       " 'get_sortv': <function pydot.Common.create_attribute_methods.<locals>.<lambda>(a='sortv')>,\n",
       " 'set_bb': <function pydot.Common.create_attribute_methods.<locals>.<lambda>(x, a='bb')>,\n",
       " 'get_bb': <function pydot.Common.create_attribute_methods.<locals>.<lambda>(a='bb')>,\n",
       " 'set_charset': <function pydot.Common.create_attribute_methods.<locals>.<lambda>(x, a='charset')>,\n",
       " 'get_charset': <function pydot.Common.create_attribute_methods.<locals>.<lambda>(a='charset')>,\n",
       " 'set_splines': <function pydot.Common.create_attribute_methods.<locals>.<lambda>(x, a='splines')>,\n",
       " 'get_splines': <function pydot.Common.create_attribute_methods.<locals>.<lambda>(a='splines')>,\n",
       " 'set_ratio': <function pydot.Common.create_attribute_methods.<locals>.<lambda>(x, a='ratio')>,\n",
       " 'get_ratio': <function pydot.Common.create_attribute_methods.<locals>.<lambda>(a='ratio')>,\n",
       " 'set_sep': <function pydot.Common.create_attribute_methods.<locals>.<lambda>(x, a='sep')>,\n",
       " 'get_sep': <function pydot.Common.create_attribute_methods.<locals>.<lambda>(a='sep')>,\n",
       " 'set_URL': <function pydot.Common.create_attribute_methods.<locals>.<lambda>(x, a='URL')>,\n",
       " 'get_URL': <function pydot.Common.create_attribute_methods.<locals>.<lambda>(a='URL')>,\n",
       " 'set_quadtree': <function pydot.Common.create_attribute_methods.<locals>.<lambda>(x, a='quadtree')>,\n",
       " 'get_quadtree': <function pydot.Common.create_attribute_methods.<locals>.<lambda>(a='quadtree')>,\n",
       " 'set_ranksep': <function pydot.Common.create_attribute_methods.<locals>.<lambda>(x, a='ranksep')>,\n",
       " 'get_ranksep': <function pydot.Common.create_attribute_methods.<locals>.<lambda>(a='ranksep')>,\n",
       " 'set_aspect': <function pydot.Common.create_attribute_methods.<locals>.<lambda>(x, a='aspect')>,\n",
       " 'get_aspect': <function pydot.Common.create_attribute_methods.<locals>.<lambda>(a='aspect')>,\n",
       " 'set_overlap': <function pydot.Common.create_attribute_methods.<locals>.<lambda>(x, a='overlap')>,\n",
       " 'get_overlap': <function pydot.Common.create_attribute_methods.<locals>.<lambda>(a='overlap')>,\n",
       " 'set_lheight': <function pydot.Common.create_attribute_methods.<locals>.<lambda>(x, a='lheight')>,\n",
       " 'get_lheight': <function pydot.Common.create_attribute_methods.<locals>.<lambda>(a='lheight')>,\n",
       " 'set_comment': <function pydot.Common.create_attribute_methods.<locals>.<lambda>(x, a='comment')>,\n",
       " 'get_comment': <function pydot.Common.create_attribute_methods.<locals>.<lambda>(a='comment')>,\n",
       " 'set_outputorder': <function pydot.Common.create_attribute_methods.<locals>.<lambda>(x, a='outputorder')>,\n",
       " 'get_outputorder': <function pydot.Common.create_attribute_methods.<locals>.<lambda>(a='outputorder')>,\n",
       " 'set_pad': <function pydot.Common.create_attribute_methods.<locals>.<lambda>(x, a='pad')>,\n",
       " 'get_pad': <function pydot.Common.create_attribute_methods.<locals>.<lambda>(a='pad')>,\n",
       " 'set_margin': <function pydot.Common.create_attribute_methods.<locals>.<lambda>(x, a='margin')>,\n",
       " 'get_margin': <function pydot.Common.create_attribute_methods.<locals>.<lambda>(a='margin')>,\n",
       " 'set_concentrate': <function pydot.Common.create_attribute_methods.<locals>.<lambda>(x, a='concentrate')>,\n",
       " 'get_concentrate': <function pydot.Common.create_attribute_methods.<locals>.<lambda>(a='concentrate')>,\n",
       " 'set_lwidth': <function pydot.Common.create_attribute_methods.<locals>.<lambda>(x, a='lwidth')>,\n",
       " 'get_lwidth': <function pydot.Common.create_attribute_methods.<locals>.<lambda>(a='lwidth')>,\n",
       " 'set_epsilon': <function pydot.Common.create_attribute_methods.<locals>.<lambda>(x, a='epsilon')>,\n",
       " 'get_epsilon': <function pydot.Common.create_attribute_methods.<locals>.<lambda>(a='epsilon')>,\n",
       " 'set_mosek': <function pydot.Common.create_attribute_methods.<locals>.<lambda>(x, a='mosek')>,\n",
       " 'get_mosek': <function pydot.Common.create_attribute_methods.<locals>.<lambda>(a='mosek')>,\n",
       " 'set_label': <function pydot.Common.create_attribute_methods.<locals>.<lambda>(x, a='label')>,\n",
       " 'get_label': <function pydot.Common.create_attribute_methods.<locals>.<lambda>(a='label')>,\n",
       " 'set_labeljust': <function pydot.Common.create_attribute_methods.<locals>.<lambda>(x, a='labeljust')>,\n",
       " 'get_labeljust': <function pydot.Common.create_attribute_methods.<locals>.<lambda>(a='labeljust')>,\n",
       " 'set_dim': <function pydot.Common.create_attribute_methods.<locals>.<lambda>(x, a='dim')>,\n",
       " 'get_dim': <function pydot.Common.create_attribute_methods.<locals>.<lambda>(a='dim')>,\n",
       " 'set_normalize': <function pydot.Common.create_attribute_methods.<locals>.<lambda>(x, a='normalize')>,\n",
       " 'get_normalize': <function pydot.Common.create_attribute_methods.<locals>.<lambda>(a='normalize')>,\n",
       " 'set_overlap_scaling': <function pydot.Common.create_attribute_methods.<locals>.<lambda>(x, a='overlap_scaling')>,\n",
       " 'get_overlap_scaling': <function pydot.Common.create_attribute_methods.<locals>.<lambda>(a='overlap_scaling')>,\n",
       " 'set_packmode': <function pydot.Common.create_attribute_methods.<locals>.<lambda>(x, a='packmode')>,\n",
       " 'get_packmode': <function pydot.Common.create_attribute_methods.<locals>.<lambda>(a='packmode')>,\n",
       " 'set_maxiter': <function pydot.Common.create_attribute_methods.<locals>.<lambda>(x, a='maxiter')>,\n",
       " 'get_maxiter': <function pydot.Common.create_attribute_methods.<locals>.<lambda>(a='maxiter')>,\n",
       " 'set_labelloc': <function pydot.Common.create_attribute_methods.<locals>.<lambda>(x, a='labelloc')>,\n",
       " 'get_labelloc': <function pydot.Common.create_attribute_methods.<locals>.<lambda>(a='labelloc')>,\n",
       " 'set_root': <function pydot.Common.create_attribute_methods.<locals>.<lambda>(x, a='root')>,\n",
       " 'get_root': <function pydot.Common.create_attribute_methods.<locals>.<lambda>(a='root')>,\n",
       " 'set_fontsize': <function pydot.Common.create_attribute_methods.<locals>.<lambda>(x, a='fontsize')>,\n",
       " 'get_fontsize': <function pydot.Common.create_attribute_methods.<locals>.<lambda>(a='fontsize')>,\n",
       " 'set_clusterrank': <function pydot.Common.create_attribute_methods.<locals>.<lambda>(x, a='clusterrank')>,\n",
       " 'get_clusterrank': <function pydot.Common.create_attribute_methods.<locals>.<lambda>(a='clusterrank')>,\n",
       " 'set_nslimit1': <function pydot.Common.create_attribute_methods.<locals>.<lambda>(x, a='nslimit1')>,\n",
       " 'get_nslimit1': <function pydot.Common.create_attribute_methods.<locals>.<lambda>(a='nslimit1')>,\n",
       " 'set_levelsgap': <function pydot.Common.create_attribute_methods.<locals>.<lambda>(x, a='levelsgap')>,\n",
       " 'get_levelsgap': <function pydot.Common.create_attribute_methods.<locals>.<lambda>(a='levelsgap')>,\n",
       " 'set_quantum': <function pydot.Common.create_attribute_methods.<locals>.<lambda>(x, a='quantum')>,\n",
       " 'get_quantum': <function pydot.Common.create_attribute_methods.<locals>.<lambda>(a='quantum')>,\n",
       " 'set_nslimit': <function pydot.Common.create_attribute_methods.<locals>.<lambda>(x, a='nslimit')>,\n",
       " 'get_nslimit': <function pydot.Common.create_attribute_methods.<locals>.<lambda>(a='nslimit')>,\n",
       " 'set_page': <function pydot.Common.create_attribute_methods.<locals>.<lambda>(x, a='page')>,\n",
       " 'get_page': <function pydot.Common.create_attribute_methods.<locals>.<lambda>(a='page')>,\n",
       " 'set_pagedir': <function pydot.Common.create_attribute_methods.<locals>.<lambda>(x, a='pagedir')>,\n",
       " 'get_pagedir': <function pydot.Common.create_attribute_methods.<locals>.<lambda>(a='pagedir')>,\n",
       " 'set_K': <function pydot.Common.create_attribute_methods.<locals>.<lambda>(x, a='K')>,\n",
       " 'get_K': <function pydot.Common.create_attribute_methods.<locals>.<lambda>(a='K')>,\n",
       " 'set_fontname': <function pydot.Common.create_attribute_methods.<locals>.<lambda>(x, a='fontname')>,\n",
       " 'get_fontname': <function pydot.Common.create_attribute_methods.<locals>.<lambda>(a='fontname')>,\n",
       " 'set_nodesep': <function pydot.Common.create_attribute_methods.<locals>.<lambda>(x, a='nodesep')>,\n",
       " 'get_nodesep': <function pydot.Common.create_attribute_methods.<locals>.<lambda>(a='nodesep')>,\n",
       " 'set_nojustify': <function pydot.Common.create_attribute_methods.<locals>.<lambda>(x, a='nojustify')>,\n",
       " 'get_nojustify': <function pydot.Common.create_attribute_methods.<locals>.<lambda>(a='nojustify')>,\n",
       " 'set_start': <function pydot.Common.create_attribute_methods.<locals>.<lambda>(x, a='start')>,\n",
       " 'get_start': <function pydot.Common.create_attribute_methods.<locals>.<lambda>(a='start')>,\n",
       " 'set_size': <function pydot.Common.create_attribute_methods.<locals>.<lambda>(x, a='size')>,\n",
       " 'get_size': <function pydot.Common.create_attribute_methods.<locals>.<lambda>(a='size')>,\n",
       " 'set_mclimit': <function pydot.Common.create_attribute_methods.<locals>.<lambda>(x, a='mclimit')>,\n",
       " 'get_mclimit': <function pydot.Common.create_attribute_methods.<locals>.<lambda>(a='mclimit')>,\n",
       " 'set_layout': <function pydot.Common.create_attribute_methods.<locals>.<lambda>(x, a='layout')>,\n",
       " 'get_layout': <function pydot.Common.create_attribute_methods.<locals>.<lambda>(a='layout')>,\n",
       " 'set_levels': <function pydot.Common.create_attribute_methods.<locals>.<lambda>(x, a='levels')>,\n",
       " 'get_levels': <function pydot.Common.create_attribute_methods.<locals>.<lambda>(a='levels')>,\n",
       " 'set_showboxes': <function pydot.Common.create_attribute_methods.<locals>.<lambda>(x, a='showboxes')>,\n",
       " 'get_showboxes': <function pydot.Common.create_attribute_methods.<locals>.<lambda>(a='showboxes')>,\n",
       " 'set_fontpath': <function pydot.Common.create_attribute_methods.<locals>.<lambda>(x, a='fontpath')>,\n",
       " 'get_fontpath': <function pydot.Common.create_attribute_methods.<locals>.<lambda>(a='fontpath')>,\n",
       " 'set_rank': <function pydot.Common.create_attribute_methods.<locals>.<lambda>(x, a='rank')>,\n",
       " 'get_rank': <function pydot.Common.create_attribute_methods.<locals>.<lambda>(a='rank')>,\n",
       " 'set_lp': <function pydot.Common.create_attribute_methods.<locals>.<lambda>(x, a='lp')>,\n",
       " 'get_lp': <function pydot.Common.create_attribute_methods.<locals>.<lambda>(a='lp')>,\n",
       " 'set_resolution': <function pydot.Common.create_attribute_methods.<locals>.<lambda>(x, a='resolution')>,\n",
       " 'get_resolution': <function pydot.Common.create_attribute_methods.<locals>.<lambda>(a='resolution')>,\n",
       " 'set_target': <function pydot.Common.create_attribute_methods.<locals>.<lambda>(x, a='target')>,\n",
       " 'get_target': <function pydot.Common.create_attribute_methods.<locals>.<lambda>(a='target')>,\n",
       " 'set_mode': <function pydot.Common.create_attribute_methods.<locals>.<lambda>(x, a='mode')>,\n",
       " 'get_mode': <function pydot.Common.create_attribute_methods.<locals>.<lambda>(a='mode')>,\n",
       " 'set_diredgeconstraints': <function pydot.Common.create_attribute_methods.<locals>.<lambda>(x, a='diredgeconstraints')>,\n",
       " 'get_diredgeconstraints': <function pydot.Common.create_attribute_methods.<locals>.<lambda>(a='diredgeconstraints')>,\n",
       " 'set_esep': <function pydot.Common.create_attribute_methods.<locals>.<lambda>(x, a='esep')>,\n",
       " 'get_esep': <function pydot.Common.create_attribute_methods.<locals>.<lambda>(a='esep')>,\n",
       " 'set_voro_margin': <function pydot.Common.create_attribute_methods.<locals>.<lambda>(x, a='voro_margin')>,\n",
       " 'get_voro_margin': <function pydot.Common.create_attribute_methods.<locals>.<lambda>(a='voro_margin')>,\n",
       " 'set_fontnames': <function pydot.Common.create_attribute_methods.<locals>.<lambda>(x, a='fontnames')>,\n",
       " 'get_fontnames': <function pydot.Common.create_attribute_methods.<locals>.<lambda>(a='fontnames')>,\n",
       " 'set_stylesheet': <function pydot.Common.create_attribute_methods.<locals>.<lambda>(x, a='stylesheet')>,\n",
       " 'get_stylesheet': <function pydot.Common.create_attribute_methods.<locals>.<lambda>(a='stylesheet')>,\n",
       " 'set_layersep': <function pydot.Common.create_attribute_methods.<locals>.<lambda>(x, a='layersep')>,\n",
       " 'get_layersep': <function pydot.Common.create_attribute_methods.<locals>.<lambda>(a='layersep')>,\n",
       " 'set_orientation': <function pydot.Common.create_attribute_methods.<locals>.<lambda>(x, a='orientation')>,\n",
       " 'get_orientation': <function pydot.Common.create_attribute_methods.<locals>.<lambda>(a='orientation')>,\n",
       " 'set_fontcolor': <function pydot.Common.create_attribute_methods.<locals>.<lambda>(x, a='fontcolor')>,\n",
       " 'get_fontcolor': <function pydot.Common.create_attribute_methods.<locals>.<lambda>(a='fontcolor')>,\n",
       " 'set_bgcolor': <function pydot.Common.create_attribute_methods.<locals>.<lambda>(x, a='bgcolor')>,\n",
       " 'get_bgcolor': <function pydot.Common.create_attribute_methods.<locals>.<lambda>(a='bgcolor')>,\n",
       " 'set_repulsiveforce': <function pydot.Common.create_attribute_methods.<locals>.<lambda>(x, a='repulsiveforce')>,\n",
       " 'get_repulsiveforce': <function pydot.Common.create_attribute_methods.<locals>.<lambda>(a='repulsiveforce')>,\n",
       " 'set_dpi': <function pydot.Common.create_attribute_methods.<locals>.<lambda>(x, a='dpi')>,\n",
       " 'get_dpi': <function pydot.Common.create_attribute_methods.<locals>.<lambda>(a='dpi')>,\n",
       " 'set_compound': <function pydot.Common.create_attribute_methods.<locals>.<lambda>(x, a='compound')>,\n",
       " 'get_compound': <function pydot.Common.create_attribute_methods.<locals>.<lambda>(a='compound')>,\n",
       " 'set_layers': <function pydot.Common.create_attribute_methods.<locals>.<lambda>(x, a='layers')>,\n",
       " 'get_layers': <function pydot.Common.create_attribute_methods.<locals>.<lambda>(a='layers')>,\n",
       " 'set_mindist': <function pydot.Common.create_attribute_methods.<locals>.<lambda>(x, a='mindist')>,\n",
       " 'get_mindist': <function pydot.Common.create_attribute_methods.<locals>.<lambda>(a='mindist')>,\n",
       " 'set_Damping': <function pydot.Common.create_attribute_methods.<locals>.<lambda>(x, a='Damping')>,\n",
       " 'get_Damping': <function pydot.Common.create_attribute_methods.<locals>.<lambda>(a='Damping')>,\n",
       " 'set_smoothing': <function pydot.Common.create_attribute_methods.<locals>.<lambda>(x, a='smoothing')>,\n",
       " 'get_smoothing': <function pydot.Common.create_attribute_methods.<locals>.<lambda>(a='smoothing')>,\n",
       " 'set_colorscheme': <function pydot.Common.create_attribute_methods.<locals>.<lambda>(x, a='colorscheme')>,\n",
       " 'get_colorscheme': <function pydot.Common.create_attribute_methods.<locals>.<lambda>(a='colorscheme')>,\n",
       " 'set_searchsize': <function pydot.Common.create_attribute_methods.<locals>.<lambda>(x, a='searchsize')>,\n",
       " 'get_searchsize': <function pydot.Common.create_attribute_methods.<locals>.<lambda>(a='searchsize')>,\n",
       " 'set_viewport': <function pydot.Common.create_attribute_methods.<locals>.<lambda>(x, a='viewport')>,\n",
       " 'get_viewport': <function pydot.Common.create_attribute_methods.<locals>.<lambda>(a='viewport')>,\n",
       " 'set_truecolor': <function pydot.Common.create_attribute_methods.<locals>.<lambda>(x, a='truecolor')>,\n",
       " 'get_truecolor': <function pydot.Common.create_attribute_methods.<locals>.<lambda>(a='truecolor')>,\n",
       " 'set_pack': <function pydot.Common.create_attribute_methods.<locals>.<lambda>(x, a='pack')>,\n",
       " 'get_pack': <function pydot.Common.create_attribute_methods.<locals>.<lambda>(a='pack')>,\n",
       " 'set_rotate': <function pydot.Common.create_attribute_methods.<locals>.<lambda>(x, a='rotate')>,\n",
       " 'get_rotate': <function pydot.Common.create_attribute_methods.<locals>.<lambda>(a='rotate')>,\n",
       " 'set_rankdir': <function pydot.Common.create_attribute_methods.<locals>.<lambda>(x, a='rankdir')>,\n",
       " 'get_rankdir': <function pydot.Common.create_attribute_methods.<locals>.<lambda>(a='rankdir')>,\n",
       " 'set_ordering': <function pydot.Common.create_attribute_methods.<locals>.<lambda>(x, a='ordering')>,\n",
       " 'get_ordering': <function pydot.Common.create_attribute_methods.<locals>.<lambda>(a='ordering')>,\n",
       " 'shape_files': [],\n",
       " 'formats': ['canon',\n",
       "  'cmap',\n",
       "  'cmapx',\n",
       "  'cmapx_np',\n",
       "  'dia',\n",
       "  'dot',\n",
       "  'fig',\n",
       "  'gd',\n",
       "  'gd2',\n",
       "  'gif',\n",
       "  'hpgl',\n",
       "  'imap',\n",
       "  'imap_np',\n",
       "  'ismap',\n",
       "  'jpe',\n",
       "  'jpeg',\n",
       "  'jpg',\n",
       "  'mif',\n",
       "  'mp',\n",
       "  'pcl',\n",
       "  'pdf',\n",
       "  'pic',\n",
       "  'plain',\n",
       "  'plain-ext',\n",
       "  'png',\n",
       "  'ps',\n",
       "  'ps2',\n",
       "  'svg',\n",
       "  'svgz',\n",
       "  'vml',\n",
       "  'vmlz',\n",
       "  'vrml',\n",
       "  'vtx',\n",
       "  'wbmp',\n",
       "  'xdot',\n",
       "  'xlib'],\n",
       " 'prog': 'dot',\n",
       " 'create_canon': <function pydot.Dot.__init__.<locals>.new_method(f='canon', prog='dot', encoding=None)>,\n",
       " 'create_cmap': <function pydot.Dot.__init__.<locals>.new_method(f='cmap', prog='dot', encoding=None)>,\n",
       " 'create_cmapx': <function pydot.Dot.__init__.<locals>.new_method(f='cmapx', prog='dot', encoding=None)>,\n",
       " 'create_cmapx_np': <function pydot.Dot.__init__.<locals>.new_method(f='cmapx_np', prog='dot', encoding=None)>,\n",
       " 'create_dia': <function pydot.Dot.__init__.<locals>.new_method(f='dia', prog='dot', encoding=None)>,\n",
       " 'create_dot': <function pydot.Dot.__init__.<locals>.new_method(f='dot', prog='dot', encoding=None)>,\n",
       " 'create_fig': <function pydot.Dot.__init__.<locals>.new_method(f='fig', prog='dot', encoding=None)>,\n",
       " 'create_gd': <function pydot.Dot.__init__.<locals>.new_method(f='gd', prog='dot', encoding=None)>,\n",
       " 'create_gd2': <function pydot.Dot.__init__.<locals>.new_method(f='gd2', prog='dot', encoding=None)>,\n",
       " 'create_gif': <function pydot.Dot.__init__.<locals>.new_method(f='gif', prog='dot', encoding=None)>,\n",
       " 'create_hpgl': <function pydot.Dot.__init__.<locals>.new_method(f='hpgl', prog='dot', encoding=None)>,\n",
       " 'create_imap': <function pydot.Dot.__init__.<locals>.new_method(f='imap', prog='dot', encoding=None)>,\n",
       " 'create_imap_np': <function pydot.Dot.__init__.<locals>.new_method(f='imap_np', prog='dot', encoding=None)>,\n",
       " 'create_ismap': <function pydot.Dot.__init__.<locals>.new_method(f='ismap', prog='dot', encoding=None)>,\n",
       " 'create_jpe': <function pydot.Dot.__init__.<locals>.new_method(f='jpe', prog='dot', encoding=None)>,\n",
       " 'create_jpeg': <function pydot.Dot.__init__.<locals>.new_method(f='jpeg', prog='dot', encoding=None)>,\n",
       " 'create_jpg': <function pydot.Dot.__init__.<locals>.new_method(f='jpg', prog='dot', encoding=None)>,\n",
       " 'create_mif': <function pydot.Dot.__init__.<locals>.new_method(f='mif', prog='dot', encoding=None)>,\n",
       " 'create_mp': <function pydot.Dot.__init__.<locals>.new_method(f='mp', prog='dot', encoding=None)>,\n",
       " 'create_pcl': <function pydot.Dot.__init__.<locals>.new_method(f='pcl', prog='dot', encoding=None)>,\n",
       " 'create_pdf': <function pydot.Dot.__init__.<locals>.new_method(f='pdf', prog='dot', encoding=None)>,\n",
       " 'create_pic': <function pydot.Dot.__init__.<locals>.new_method(f='pic', prog='dot', encoding=None)>,\n",
       " 'create_plain': <function pydot.Dot.__init__.<locals>.new_method(f='plain', prog='dot', encoding=None)>,\n",
       " 'create_plain-ext': <function pydot.Dot.__init__.<locals>.new_method(f='plain-ext', prog='dot', encoding=None)>,\n",
       " 'create_png': <function pydot.Dot.__init__.<locals>.new_method(f='png', prog='dot', encoding=None)>,\n",
       " 'create_ps': <function pydot.Dot.__init__.<locals>.new_method(f='ps', prog='dot', encoding=None)>,\n",
       " 'create_ps2': <function pydot.Dot.__init__.<locals>.new_method(f='ps2', prog='dot', encoding=None)>,\n",
       " 'create_svg': <function pydot.Dot.__init__.<locals>.new_method(f='svg', prog='dot', encoding=None)>,\n",
       " 'create_svgz': <function pydot.Dot.__init__.<locals>.new_method(f='svgz', prog='dot', encoding=None)>,\n",
       " 'create_vml': <function pydot.Dot.__init__.<locals>.new_method(f='vml', prog='dot', encoding=None)>,\n",
       " 'create_vmlz': <function pydot.Dot.__init__.<locals>.new_method(f='vmlz', prog='dot', encoding=None)>,\n",
       " 'create_vrml': <function pydot.Dot.__init__.<locals>.new_method(f='vrml', prog='dot', encoding=None)>,\n",
       " 'create_vtx': <function pydot.Dot.__init__.<locals>.new_method(f='vtx', prog='dot', encoding=None)>,\n",
       " 'create_wbmp': <function pydot.Dot.__init__.<locals>.new_method(f='wbmp', prog='dot', encoding=None)>,\n",
       " 'create_xdot': <function pydot.Dot.__init__.<locals>.new_method(f='xdot', prog='dot', encoding=None)>,\n",
       " 'create_xlib': <function pydot.Dot.__init__.<locals>.new_method(f='xlib', prog='dot', encoding=None)>,\n",
       " 'write_canon': <function pydot.Dot.__init__.<locals>.new_method(path, f='canon', prog='dot', encoding=None)>,\n",
       " 'write_cmap': <function pydot.Dot.__init__.<locals>.new_method(path, f='cmap', prog='dot', encoding=None)>,\n",
       " 'write_cmapx': <function pydot.Dot.__init__.<locals>.new_method(path, f='cmapx', prog='dot', encoding=None)>,\n",
       " 'write_cmapx_np': <function pydot.Dot.__init__.<locals>.new_method(path, f='cmapx_np', prog='dot', encoding=None)>,\n",
       " 'write_dia': <function pydot.Dot.__init__.<locals>.new_method(path, f='dia', prog='dot', encoding=None)>,\n",
       " 'write_dot': <function pydot.Dot.__init__.<locals>.new_method(path, f='dot', prog='dot', encoding=None)>,\n",
       " 'write_fig': <function pydot.Dot.__init__.<locals>.new_method(path, f='fig', prog='dot', encoding=None)>,\n",
       " 'write_gd': <function pydot.Dot.__init__.<locals>.new_method(path, f='gd', prog='dot', encoding=None)>,\n",
       " 'write_gd2': <function pydot.Dot.__init__.<locals>.new_method(path, f='gd2', prog='dot', encoding=None)>,\n",
       " 'write_gif': <function pydot.Dot.__init__.<locals>.new_method(path, f='gif', prog='dot', encoding=None)>,\n",
       " 'write_hpgl': <function pydot.Dot.__init__.<locals>.new_method(path, f='hpgl', prog='dot', encoding=None)>,\n",
       " 'write_imap': <function pydot.Dot.__init__.<locals>.new_method(path, f='imap', prog='dot', encoding=None)>,\n",
       " 'write_imap_np': <function pydot.Dot.__init__.<locals>.new_method(path, f='imap_np', prog='dot', encoding=None)>,\n",
       " 'write_ismap': <function pydot.Dot.__init__.<locals>.new_method(path, f='ismap', prog='dot', encoding=None)>,\n",
       " 'write_jpe': <function pydot.Dot.__init__.<locals>.new_method(path, f='jpe', prog='dot', encoding=None)>,\n",
       " 'write_jpeg': <function pydot.Dot.__init__.<locals>.new_method(path, f='jpeg', prog='dot', encoding=None)>,\n",
       " 'write_jpg': <function pydot.Dot.__init__.<locals>.new_method(path, f='jpg', prog='dot', encoding=None)>,\n",
       " 'write_mif': <function pydot.Dot.__init__.<locals>.new_method(path, f='mif', prog='dot', encoding=None)>,\n",
       " 'write_mp': <function pydot.Dot.__init__.<locals>.new_method(path, f='mp', prog='dot', encoding=None)>,\n",
       " 'write_pcl': <function pydot.Dot.__init__.<locals>.new_method(path, f='pcl', prog='dot', encoding=None)>,\n",
       " 'write_pdf': <function pydot.Dot.__init__.<locals>.new_method(path, f='pdf', prog='dot', encoding=None)>,\n",
       " 'write_pic': <function pydot.Dot.__init__.<locals>.new_method(path, f='pic', prog='dot', encoding=None)>,\n",
       " 'write_plain': <function pydot.Dot.__init__.<locals>.new_method(path, f='plain', prog='dot', encoding=None)>,\n",
       " 'write_plain-ext': <function pydot.Dot.__init__.<locals>.new_method(path, f='plain-ext', prog='dot', encoding=None)>,\n",
       " 'write_png': <function pydot.Dot.__init__.<locals>.new_method(path, f='png', prog='dot', encoding=None)>,\n",
       " 'write_ps': <function pydot.Dot.__init__.<locals>.new_method(path, f='ps', prog='dot', encoding=None)>,\n",
       " 'write_ps2': <function pydot.Dot.__init__.<locals>.new_method(path, f='ps2', prog='dot', encoding=None)>,\n",
       " 'write_svg': <function pydot.Dot.__init__.<locals>.new_method(path, f='svg', prog='dot', encoding=None)>,\n",
       " 'write_svgz': <function pydot.Dot.__init__.<locals>.new_method(path, f='svgz', prog='dot', encoding=None)>,\n",
       " 'write_vml': <function pydot.Dot.__init__.<locals>.new_method(path, f='vml', prog='dot', encoding=None)>,\n",
       " 'write_vmlz': <function pydot.Dot.__init__.<locals>.new_method(path, f='vmlz', prog='dot', encoding=None)>,\n",
       " 'write_vrml': <function pydot.Dot.__init__.<locals>.new_method(path, f='vrml', prog='dot', encoding=None)>,\n",
       " 'write_vtx': <function pydot.Dot.__init__.<locals>.new_method(path, f='vtx', prog='dot', encoding=None)>,\n",
       " 'write_wbmp': <function pydot.Dot.__init__.<locals>.new_method(path, f='wbmp', prog='dot', encoding=None)>,\n",
       " 'write_xdot': <function pydot.Dot.__init__.<locals>.new_method(path, f='xdot', prog='dot', encoding=None)>,\n",
       " 'write_xlib': <function pydot.Dot.__init__.<locals>.new_method(path, f='xlib', prog='dot', encoding=None)>,\n",
       " 'write_raw': <function pydot.Dot.__init__.<locals>.new_method(path, f='raw', prog='dot', encoding=None)>}"
      ]
     },
     "execution_count": 35,
     "metadata": {},
     "output_type": "execute_result"
    }
   ],
   "source": [
    "graphs[0].__dict__"
   ]
  },
  {
   "cell_type": "code",
   "execution_count": null,
   "metadata": {},
   "outputs": [],
   "source": []
  }
 ],
 "metadata": {
  "kernelspec": {
   "display_name": "Python 3",
   "language": "python",
   "name": "python3"
  },
  "language_info": {
   "codemirror_mode": {
    "name": "ipython",
    "version": 3
   },
   "file_extension": ".py",
   "mimetype": "text/x-python",
   "name": "python",
   "nbconvert_exporter": "python",
   "pygments_lexer": "ipython3",
   "version": "3.6.5"
  }
 },
 "nbformat": 4,
 "nbformat_minor": 2
}
